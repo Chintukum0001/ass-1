{
 "cells": [
  {
   "cell_type": "code",
   "execution_count": 15,
   "id": "529a9710",
   "metadata": {},
   "outputs": [
    {
     "name": "stdout",
     "output_type": "stream",
     "text": [
      "1 1 2 3 5 8 13 21 34 "
     ]
    }
   ],
   "source": [
    "x = 0\n",
    "y = 1\n",
    "z = 1\n",
    "for i in range(0,9):\n",
    "    \n",
    "    \n",
    "    \n",
    "    \n",
    "    print(y, end=\" \")\n",
    "    \n",
    "    \n",
    "    x=y\n",
    "    y=z\n",
    "    \n",
    "    z=x+y\n",
    "    \n",
    "    "
   ]
  },
  {
   "cell_type": "code",
   "execution_count": null,
   "id": "df89e519",
   "metadata": {},
   "outputs": [],
   "source": []
  }
 ],
 "metadata": {
  "kernelspec": {
   "display_name": "Python 3 (ipykernel)",
   "language": "python",
   "name": "python3"
  },
  "language_info": {
   "codemirror_mode": {
    "name": "ipython",
    "version": 3
   },
   "file_extension": ".py",
   "mimetype": "text/x-python",
   "name": "python",
   "nbconvert_exporter": "python",
   "pygments_lexer": "ipython3",
   "version": "3.10.1"
  }
 },
 "nbformat": 4,
 "nbformat_minor": 5
}
